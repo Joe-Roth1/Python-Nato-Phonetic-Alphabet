{
  "nbformat": 4,
  "nbformat_minor": 0,
  "metadata": {
    "colab": {
      "provenance": []
    },
    "kernelspec": {
      "name": "python3",
      "display_name": "Python 3"
    },
    "language_info": {
      "name": "python"
    }
  },
  "cells": [
    {
      "cell_type": "code",
      "execution_count": 5,
      "metadata": {
        "id": "5ftmamGDbrcN",
        "colab": {
          "base_uri": "https://localhost:8080/"
        },
        "outputId": "2ef8de8c-dd87-4e42-bf63-f30facb2b1de"
      },
      "outputs": [
        {
          "output_type": "stream",
          "name": "stdout",
          "text": [
            "Enter any word or letter: Attack\n",
            "Continue?: \n",
            "y or n: y\n",
            "Enter any word or letter: Titan\n",
            "Continue?: \n",
            "y or n: y\n",
            "Enter any word or letter: Eren\n",
            "Continue?: \n",
            "y or n: y\n",
            "Enter any word or letter: Yeager\n",
            "Continue?: \n",
            "y or n: n\n",
            "['alpha', 'tango', 'echo', 'yankee']\n"
          ]
        }
      ],
      "source": [
        "from pickle import FALSE\n",
        "# Two lists one for nato the other for letters\n",
        "\n",
        "import sys\n",
        "nato= [\"alpha\", \"bravo\", \"charlie\", \"delta\", \"echo\", \"fox-trot\", \"golf\", \"hotel\", \"india\",\"juliet\", \"kilo\", \"lima\", \"mike\", \"november\", \"oscar\", \"papa\", \"quebec\", \"romeo\", \"sierra\", \"tango\", \"uniform\", \"victor\", \"whiskey\", \"x-ray\", \"yankee\", \"zulu\" ]\n",
        "alphabet = ['a','b','c', 'd', 'e','f','g', 'h', 'i', 'j', 'k', 'l', 'm', 'n', 'o', 'p', 'q', 'r', 's', 't', 'u', 'v', 'w', 'x', 'y', 'z']\n",
        "\n",
        "# enter input in words or letters\n",
        "\n",
        "user_input = input('Enter any word or letter: ').casefold() # if the user enters a capital letter\n",
        "\n",
        "list =[]\n",
        "\n",
        "list.append(user_input)\n",
        "\n",
        "print(\"Continue?: \")\n",
        "\n",
        "answer = input(\"y or n: \")\n",
        "if answer == \"y\":\n",
        "  answer=True\n",
        "elif answer ==\"n\":\n",
        "  answer=False\n",
        "  print(list)\n",
        "while bool(answer) == True:\n",
        "  user_input = input('Enter any word or letter: ').casefold() # if the user enters a capital letter\n",
        "\n",
        "  list.append(user_input)\n",
        "\n",
        "  print(\"Continue?: \")\n",
        "  answer = input(\"y or n: \")\n",
        "  if answer == \"y\":\n",
        "    answer=True\n",
        "  elif answer ==\"n\":\n",
        "    answer=False\n",
        "   # print(list)\n",
        "    break\n",
        "\n",
        "\n",
        "for x in range(len(list)):\n",
        "  list[x]=list[x][0]\n",
        "  for n in range(26):\n",
        "    if list[x]==alphabet[n]:\n",
        "      list[x]=nato[n]\n",
        "print(list)\n",
        "\n",
        "\n",
        "\n",
        "\n",
        "\n",
        "\n",
        "\n",
        "\n"
      ]
    },
    {
      "cell_type": "code",
      "source": [],
      "metadata": {
        "id": "lYUEWNzJ09ya"
      },
      "execution_count": null,
      "outputs": []
    }
  ]
}